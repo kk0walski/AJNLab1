{
 "metadata": {
  "language_info": {
   "codemirror_mode": {
    "name": "ipython",
    "version": 3
   },
   "file_extension": ".py",
   "mimetype": "text/x-python",
   "name": "python",
   "nbconvert_exporter": "python",
   "pygments_lexer": "ipython3",
   "version": "3.8.5-final"
  },
  "orig_nbformat": 2,
  "kernelspec": {
   "name": "python3",
   "display_name": "Python 3"
  }
 },
 "nbformat": 4,
 "nbformat_minor": 2,
 "cells": [
  {
   "cell_type": "code",
   "execution_count": 1,
   "metadata": {},
   "outputs": [],
   "source": [
    "import xml.etree.ElementTree as ET\n",
    "def write_part_of_speech(readfile):\n",
    "    tree = ET.parse(readfile)\n",
    "    chunklist = tree.getroot()\n",
    "    reasult = {'token': [], 'base': [], 'tag': []}\n",
    "    for token in chunklist.iter('tok'):\n",
    "        reasult['token'].append(token.find('orth').text)\n",
    "        lex = token.find('lex[@disamb=\"1\"]')\n",
    "        reasult['base'].append(lex.find(\"base\").text)\n",
    "        reasult['tag'].append(lex.find(\"ctag\").text)\n",
    "    return reasult"
   ]
  },
  {
   "cell_type": "code",
   "execution_count": 2,
   "metadata": {},
   "outputs": [],
   "source": [
    "import pandas as pd\n",
    "golden = pd.DataFrame.from_dict(write_part_of_speech(\"taks_c_golden.xml\"))\n",
    "wcrft = pd.DataFrame.from_dict(write_part_of_speech(\"WCRFT2.xml\"))\n",
    "morphodita = pd.DataFrame.from_dict(write_part_of_speech(\"MorphoDita.xml\"))"
   ]
  },
  {
   "cell_type": "code",
   "execution_count": 6,
   "metadata": {},
   "outputs": [
    {
     "output_type": "stream",
     "name": "stdout",
     "text": [
      "Metrics for wcrft\n",
      " Accuracy : 0.046946994158836124\n",
      " Precision: 0.04474060626847992\n",
      " Recall   : 0.046946994158836124\n",
      " F1-Score : 0.04505455206684157\n",
      "\n",
      "Metrics for morphodita\n",
      " Accuracy : 0.07782171751986358\n",
      " Precision: 0.07895418553797769\n",
      " Recall   : 0.07782171751986358\n",
      " F1-Score : 0.07817210148023686\n",
      "\n"
     ]
    }
   ],
   "source": [
    "from sklearn import metrics\n",
    "\n",
    "golds_tag = list(golden['tag'])\n",
    "wcrft_list = list(wcrft['tag'])[0:27563]\n",
    "morphodita_list = list(morphodita['tag'])[0:27563]\n",
    "\n",
    "for preds,tagger in [(wcrft_list,'wcrft'),(morphodita_list,'morphodita')]:\n",
    "    print(\"Metrics for\",tagger)\n",
    "    print(\" Accuracy :\", metrics.accuracy_score(golds_tag,preds))\n",
    "    print(\" Precision:\", metrics.precision_score(golds_tag,preds,average='weighted'))\n",
    "    print(\" Recall   :\", metrics.recall_score(golds_tag,preds,average='weighted'))\n",
    "    print(\" F1-Score :\", metrics.f1_score(golds_tag,preds,average='weighted'))\n",
    "    print()"
   ]
  },
  {
   "cell_type": "code",
   "execution_count": null,
   "metadata": {},
   "outputs": [],
   "source": []
  }
 ]
}