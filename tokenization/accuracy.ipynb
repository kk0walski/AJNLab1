{
 "metadata": {
  "language_info": {
   "codemirror_mode": {
    "name": "ipython",
    "version": 3
   },
   "file_extension": ".py",
   "mimetype": "text/x-python",
   "name": "python",
   "nbconvert_exporter": "python",
   "pygments_lexer": "ipython3",
   "version": "3.8.5-final"
  },
  "orig_nbformat": 2,
  "kernelspec": {
   "name": "python3",
   "display_name": "Python 3"
  }
 },
 "nbformat": 4,
 "nbformat_minor": 2,
 "cells": [
  {
   "cell_type": "code",
   "execution_count": 1,
   "metadata": {},
   "outputs": [],
   "source": [
    "import xml.etree.ElementTree as ET\n",
    "def write_part_of_speech(readfile):\n",
    "    tree = ET.parse(readfile)\n",
    "    chunklist = tree.getroot()\n",
    "    reasult = {'token': [], 'base': [], 'tag': []}\n",
    "    for token in chunklist.iter('tok'):\n",
    "        reasult['token'].append(token.find('orth').text)\n",
    "        lex = token.find('lex[@disamb=\"1\"]')\n",
    "        reasult['base'].append(lex.find(\"base\").text)\n",
    "        reasult['tag'].append(lex.find(\"ctag\").text.split(':')[0])\n",
    "    return reasult"
   ]
  },
  {
   "cell_type": "code",
   "execution_count": 2,
   "metadata": {},
   "outputs": [],
   "source": [
    "import pandas as pd\n",
    "golden = pd.DataFrame.from_dict(write_part_of_speech(\"taks_c_golden.xml\"))\n",
    "wcrft = pd.DataFrame.from_dict(write_part_of_speech(\"WCRFT2.xml\"))\n",
    "morphodita = pd.DataFrame.from_dict(write_part_of_speech(\"MorphoDita.xml\"))"
   ]
  },
  {
   "cell_type": "code",
   "execution_count": 3,
   "metadata": {},
   "outputs": [
    {
     "output_type": "stream",
     "name": "stdout",
     "text": [
      "Metrics for wcrft\n",
      " Accuracy : 0.1459928164568443\n",
      " Precision: 0.14632999671678187\n",
      " Recall   : 0.1459928164568443\n",
      " F1-Score : 0.14533862287284594\n",
      "\n",
      "Metrics for morphodita\n",
      " Accuracy : 0.16620106664731704\n",
      " Precision: 0.16994190109319626\n",
      " Recall   : 0.16620106664731704\n",
      " F1-Score : 0.16801997422773585\n",
      "\n"
     ]
    }
   ],
   "source": [
    "from sklearn import metrics\n",
    "\n",
    "golds_tag = list(golden['tag'])\n",
    "wcrft_list = list(wcrft['tag'])[0:27563]\n",
    "morphodita_list = list(morphodita['tag'])[0:27563]\n",
    "\n",
    "for preds,tagger in [(wcrft_list,'wcrft'),(morphodita_list,'morphodita')]:\n",
    "    print(\"Metrics for\",tagger)\n",
    "    print(\" Accuracy :\", metrics.accuracy_score(golds_tag,preds))\n",
    "    print(\" Precision:\", metrics.precision_score(golds_tag,preds,average='weighted'))\n",
    "    print(\" Recall   :\", metrics.recall_score(golds_tag,preds,average='weighted'))\n",
    "    print(\" F1-Score :\", metrics.f1_score(golds_tag,preds,average='weighted'))\n",
    "    print()"
   ]
  },
  {
   "cell_type": "code",
   "execution_count": null,
   "metadata": {},
   "outputs": [],
   "source": []
  }
 ]
}